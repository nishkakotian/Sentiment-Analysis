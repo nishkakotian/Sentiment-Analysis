{
  "nbformat": 4,
  "nbformat_minor": 0,
  "metadata": {
    "colab": {
      "name": "Video_analysis_and_fusionipynb",
      "provenance": [],
      "collapsed_sections": []
    },
    "kernelspec": {
      "name": "python3",
      "display_name": "Python 3"
    },
    "language_info": {
      "name": "python"
    }
  },
  "cells": [
    {
      "cell_type": "code",
      "metadata": {
        "id": "98vFWfTePhgF"
      },
      "source": [
        "from google.colab import drive\n",
        "\n",
        "drive.mount('/content/gdrive')"
      ],
      "execution_count": null,
      "outputs": []
    },
    {
      "cell_type": "code",
      "metadata": {
        "id": "FODcpYklP7Dp"
      },
      "source": [
        "cd gdrive/MyDrive/Colab Notebooks/VIDEO_ANALYSIS"
      ],
      "execution_count": null,
      "outputs": []
    },
    {
      "cell_type": "code",
      "metadata": {
        "id": "BfeM4qOu7Y92"
      },
      "source": [
        "import pandas as pd\n",
        "df = pd.read_csv('train.csv')\n",
        "df_test=pd.read_csv('test.csv')"
      ],
      "execution_count": null,
      "outputs": []
    },
    {
      "cell_type": "code",
      "metadata": {
        "colab": {
          "base_uri": "https://localhost:8080/",
          "height": 206
        },
        "id": "pwaRrmZU7YoU",
        "outputId": "099bd09c-d638-4542-a982-81ec0fa8e780"
      },
      "source": [
        "from sklearn.feature_extraction.text import TfidfVectorizer\n",
        "from sklearn.svm import LinearSVC\n",
        "from sklearn.metrics import classification_report\n",
        "\n",
        "df = df.replace('\\n','', regex=True)\n",
        "df.head()"
      ],
      "execution_count": null,
      "outputs": [
        {
          "output_type": "execute_result",
          "data": {
            "text/html": [
              "<div>\n",
              "<style scoped>\n",
              "    .dataframe tbody tr th:only-of-type {\n",
              "        vertical-align: middle;\n",
              "    }\n",
              "\n",
              "    .dataframe tbody tr th {\n",
              "        vertical-align: top;\n",
              "    }\n",
              "\n",
              "    .dataframe thead th {\n",
              "        text-align: right;\n",
              "    }\n",
              "</style>\n",
              "<table border=\"1\" class=\"dataframe\">\n",
              "  <thead>\n",
              "    <tr style=\"text-align: right;\">\n",
              "      <th></th>\n",
              "      <th>Transcript</th>\n",
              "      <th>Sentiment</th>\n",
              "    </tr>\n",
              "  </thead>\n",
              "  <tbody>\n",
              "    <tr>\n",
              "      <th>0</th>\n",
              "      <td>BUT I CAN SAFELY ASSURE YOU THAT EVEN IF THEY...</td>\n",
              "      <td>POSITIVE</td>\n",
              "    </tr>\n",
              "    <tr>\n",
              "      <th>1</th>\n",
              "      <td>AND I LOVED IT</td>\n",
              "      <td>POSITIVE</td>\n",
              "    </tr>\n",
              "    <tr>\n",
              "      <th>2</th>\n",
              "      <td>I DONT KNOW IF FANS OF THE COMIC WOULD BE AS I...</td>\n",
              "      <td>NEGATIVE</td>\n",
              "    </tr>\n",
              "    <tr>\n",
              "      <th>3</th>\n",
              "      <td>BUT JUST GOING INTO THIS A AS AN OBSERVER AND ...</td>\n",
              "      <td>POSITIVE</td>\n",
              "    </tr>\n",
              "    <tr>\n",
              "      <th>4</th>\n",
              "      <td>AND I WOULD TELL YOU RIGHT NOW IT WAS HILARIOUS</td>\n",
              "      <td>POSITIVE</td>\n",
              "    </tr>\n",
              "  </tbody>\n",
              "</table>\n",
              "</div>"
            ],
            "text/plain": [
              "                                          Transcript Sentiment\n",
              "0   BUT I CAN SAFELY ASSURE YOU THAT EVEN IF THEY...  POSITIVE\n",
              "1                                     AND I LOVED IT  POSITIVE\n",
              "2  I DONT KNOW IF FANS OF THE COMIC WOULD BE AS I...  NEGATIVE\n",
              "3  BUT JUST GOING INTO THIS A AS AN OBSERVER AND ...  POSITIVE\n",
              "4    AND I WOULD TELL YOU RIGHT NOW IT WAS HILARIOUS  POSITIVE"
            ]
          },
          "metadata": {
            "tags": []
          },
          "execution_count": 5
        }
      ]
    },
    {
      "cell_type": "code",
      "metadata": {
        "id": "XCtz-vFA7Yd9"
      },
      "source": [
        "X_train,y_train = df[['Transcript']],df[['Sentiment']]\n",
        "X_test,y_test = df_test[['Transcript']],df_test['Sentiment']\n",
        "\n",
        "from sklearn.feature_extraction.text import CountVectorizer\n",
        "vectorizer = CountVectorizer(analyzer = \"word\",   \\\n",
        "                             tokenizer = None,    \\\n",
        "                             preprocessor = None, \\\n",
        "                             stop_words = None,   \\\n",
        "                             max_features = 4000) \n",
        "\n",
        "# create bag of words vector for the training set using countVectorizer\n",
        "train_data_features = vectorizer.fit_transform(X_train['Transcript'].values)\n",
        "\n",
        "# tf-idf transformer initialization\n",
        "from sklearn.feature_extraction.text import TfidfTransformer\n",
        "tfidf_transformer = TfidfTransformer()\n",
        "\n",
        "# create tfidf transformed vector  for the training set using tf-idf transformer\n",
        "X_train_tfidf = tfidf_transformer.fit_transform(train_data_features)"
      ],
      "execution_count": null,
      "outputs": []
    },
    {
      "cell_type": "code",
      "metadata": {
        "id": "SxAHIigl7YRJ"
      },
      "source": [
        "test_data_features = vectorizer.transform(X_test['Transcript'].values)\n",
        "X_test_tfidf = tfidf_transformer.transform(test_data_features)"
      ],
      "execution_count": null,
      "outputs": []
    },
    {
      "cell_type": "code",
      "metadata": {
        "id": "_pomhYV_7scH"
      },
      "source": [
        "import numpy as np\n",
        "\n",
        "audio_f=[]\n",
        "labels=[]\n",
        "j=0\n",
        "with open('audio_train_features.arff') as f:\n",
        "    for i in range(140):\n",
        "        next(f)\n",
        "    for line in f:\n",
        "        line=line[:-10]\n",
        "        v=list(map(float, line.split(\",\")))\n",
        "        audio_f.append(v)\n",
        "        j+=1"
      ],
      "execution_count": null,
      "outputs": []
    },
    {
      "cell_type": "code",
      "metadata": {
        "colab": {
          "base_uri": "https://localhost:8080/"
        },
        "id": "VmfnMTG47sT0",
        "outputId": "39c2bc82-e523-4e02-f27f-8a91cd8ec381"
      },
      "source": [
        "audio_f=np.array(audio_f)\n",
        "audio_f.shape"
      ],
      "execution_count": null,
      "outputs": [
        {
          "output_type": "execute_result",
          "data": {
            "text/plain": [
              "(1492, 136)"
            ]
          },
          "metadata": {
            "tags": []
          },
          "execution_count": 9
        }
      ]
    },
    {
      "cell_type": "code",
      "metadata": {
        "colab": {
          "base_uri": "https://localhost:8080/"
        },
        "id": "TprSaaPh7sL8",
        "outputId": "82b3fbfe-f4ba-4d48-acb4-60a702f52586"
      },
      "source": [
        "import scipy\n",
        "text_f=X_train_tfidf.toarray()\n",
        "text_f.shape"
      ],
      "execution_count": null,
      "outputs": [
        {
          "output_type": "execute_result",
          "data": {
            "text/plain": [
              "(1492, 2437)"
            ]
          },
          "metadata": {
            "tags": []
          },
          "execution_count": 10
        }
      ]
    },
    {
      "cell_type": "code",
      "metadata": {
        "colab": {
          "base_uri": "https://localhost:8080/"
        },
        "id": "0vX_fxbh_fPI",
        "outputId": "9d45b987-8ca6-426e-f5e3-132980e2bf1f"
      },
      "source": [
        "text_test_f=X_test_tfidf.toarray()\n",
        "text_test_f.shape"
      ],
      "execution_count": null,
      "outputs": [
        {
          "output_type": "execute_result",
          "data": {
            "text/plain": [
              "(611, 2437)"
            ]
          },
          "metadata": {
            "tags": []
          },
          "execution_count": 11
        }
      ]
    },
    {
      "cell_type": "code",
      "metadata": {
        "id": "hbXpXPy0_fap"
      },
      "source": [
        "import numpy as np\n",
        "\n",
        "audio_test_f=[]\n",
        "test_labels=[]\n",
        "j=0\n",
        "with open('audio_test_features.arff') as f:\n",
        "    for i in range(140):\n",
        "        next(f)\n",
        "    for line in f:\n",
        "        line=line[:-10]\n",
        "        v=list(map(float, line.split(\",\")))\n",
        "        audio_test_f.append(v)\n",
        "        j+=1"
      ],
      "execution_count": null,
      "outputs": []
    },
    {
      "cell_type": "code",
      "metadata": {
        "colab": {
          "base_uri": "https://localhost:8080/"
        },
        "id": "6S1hASu0_fkt",
        "outputId": "0ab931b5-51e2-423b-c593-9a13a14606be"
      },
      "source": [
        "audio_test_f=np.array(audio_test_f)\n",
        "audio_test_f.shape"
      ],
      "execution_count": null,
      "outputs": [
        {
          "output_type": "execute_result",
          "data": {
            "text/plain": [
              "(611, 136)"
            ]
          },
          "metadata": {
            "tags": []
          },
          "execution_count": 13
        }
      ]
    },
    {
      "cell_type": "code",
      "metadata": {
        "id": "stWvisX3DGfK"
      },
      "source": [
        "#Labels"
      ],
      "execution_count": null,
      "outputs": []
    },
    {
      "cell_type": "code",
      "metadata": {
        "colab": {
          "base_uri": "https://localhost:8080/"
        },
        "id": "F4VXbK3B_qL3",
        "outputId": "411df2b2-b5dd-42d8-8913-7db8ab1f9e06"
      },
      "source": [
        "y_train.shape"
      ],
      "execution_count": null,
      "outputs": [
        {
          "output_type": "execute_result",
          "data": {
            "text/plain": [
              "(1492, 1)"
            ]
          },
          "metadata": {
            "tags": []
          },
          "execution_count": 15
        }
      ]
    },
    {
      "cell_type": "code",
      "metadata": {
        "colab": {
          "base_uri": "https://localhost:8080/"
        },
        "id": "sYZ2nxUMDD34",
        "outputId": "de4f87ca-3c20-4478-b2ad-cbeb34c734bb"
      },
      "source": [
        "y_test.shape"
      ],
      "execution_count": null,
      "outputs": [
        {
          "output_type": "execute_result",
          "data": {
            "text/plain": [
              "(611,)"
            ]
          },
          "metadata": {
            "tags": []
          },
          "execution_count": 16
        }
      ]
    },
    {
      "cell_type": "markdown",
      "metadata": {
        "id": "disPB_gxIWwz"
      },
      "source": [
        "VIDEO ANALYSIS"
      ]
    },
    {
      "cell_type": "code",
      "metadata": {
        "id": "x-AchpNAPq0G"
      },
      "source": [
        "import numpy as np\n",
        "import cv2\n",
        "\n",
        "\n",
        "class Videoto3D:\n",
        "\n",
        "    def __init__(self, width, height, depth):\n",
        "        self.width = width\n",
        "        self.height = height\n",
        "        self.depth = depth\n",
        "\n",
        "    def video3d(self, filename, color=True, skip=True):\n",
        "        cap = cv2.VideoCapture(filename)\n",
        "        nframe = cap.get(cv2.CAP_PROP_FRAME_COUNT)\n",
        "        if skip:\n",
        "            frames = [x * nframe / self.depth for x in range(self.depth)]\n",
        "        else:\n",
        "            frames = [x for x in range(self.depth)]\n",
        "        framearray = []\n",
        "\n",
        "        for i in range(self.depth):\n",
        "            cap.set(cv2.CAP_PROP_POS_FRAMES, frames[i])\n",
        "            ret, frame = cap.read()\n",
        "            frame = cv2.resize(frame, (self.height, self.width))\n",
        "            if color:\n",
        "                framearray.append(frame)\n",
        "            else:\n",
        "                framearray.append(cv2.cvtColor(frame, cv2.COLOR_BGR2GRAY))\n",
        "\n",
        "        cap.release()\n",
        "        return np.array(framearray)"
      ],
      "execution_count": null,
      "outputs": []
    },
    {
      "cell_type": "code",
      "metadata": {
        "id": "mUrK9rEeQ0CW"
      },
      "source": [
        "import os\n",
        "import numpy as np\n",
        "from keras.layers import (Activation, Conv3D, Dense, Dropout, Flatten,MaxPooling3D)\n",
        "from keras.layers.advanced_activations import LeakyReLU\n",
        "from keras.losses import categorical_crossentropy\n",
        "from keras.models import Sequential\n",
        "from keras.optimizers import Adam\n",
        "from keras.utils import np_utils\n",
        "from keras.utils.vis_utils import plot_model\n",
        "from keras.layers import ELU\n",
        "\n",
        "def loaddata(video_dir, vid3d, nclass, color=False, skip=True):\n",
        "    classes = os.listdir(video_dir)\n",
        "    print(classes)\n",
        "    return\n",
        "    X = []\n",
        "    labels = []\n",
        "\n",
        "    for classname in classes:\n",
        "      files=os.path.join(video_dir,classname)\n",
        "      for filename in os.listdir(files):\n",
        "          name = os.path.join(files,filename)\n",
        "          label = classname\n",
        "          labels.append(label)\n",
        "          X.append(vid3d.video3d(name, color=color, skip=skip))\n",
        "\n",
        "    if color:\n",
        "        return np.array(X).transpose((0, 2, 3, 4, 1)), labels\n",
        "    else:\n",
        "        return np.array(X).transpose((0, 2, 3, 1)), labels\n",
        "\n",
        "img_rows, img_cols, frames = 112,112,5\n",
        "channel = 3 #when color=True otherwise it should be 1\n",
        "\n",
        "vid3d = Videoto3D(img_rows, img_cols, frames)\n",
        "nb_classes = 2\n",
        "x, y = loaddata('/content/gdrive/MyDrive/Colab Notebooks/VIDEO_ANALYSIS/TRAIN', vid3d, nb_classes, True, True)\n",
        "tx,ty= loaddata('/content/gdrive/MyDrive/Colab Notebooks/VIDEO_ANALYSIS/TEST', vid3d, nb_classes, True, True)\n",
        "train_X = x.reshape((x.shape[0], img_rows, img_cols, frames, channel))\n",
        "test_X=tx.reshape((tx.shape[0], img_rows, img_cols, frames, channel))"
      ],
      "execution_count": null,
      "outputs": []
    },
    {
      "cell_type": "code",
      "metadata": {
        "id": "ChiOr9kDpQpP"
      },
      "source": [
        "train_X = train_X.astype('float32')\n",
        "test_X=test_X.astype('float32')"
      ],
      "execution_count": null,
      "outputs": []
    },
    {
      "cell_type": "code",
      "metadata": {
        "id": "z-j1JQ8nplsU"
      },
      "source": [
        "train_Y=np.array(y)\n",
        "test_Y=np.array(ty)"
      ],
      "execution_count": null,
      "outputs": []
    },
    {
      "cell_type": "code",
      "metadata": {
        "colab": {
          "base_uri": "https://localhost:8080/"
        },
        "id": "tNwB3q38ijN5",
        "outputId": "4b4ccb2c-ab44-4062-c661-6b8c3c391e91"
      },
      "source": [
        "train_X.shape"
      ],
      "execution_count": null,
      "outputs": [
        {
          "output_type": "execute_result",
          "data": {
            "text/plain": [
              "(1492, 112, 112, 5, 3)"
            ]
          },
          "metadata": {
            "tags": []
          },
          "execution_count": 21
        }
      ]
    },
    {
      "cell_type": "code",
      "metadata": {
        "colab": {
          "base_uri": "https://localhost:8080/"
        },
        "id": "OqPgA_l5ZpYr",
        "outputId": "db6a06b3-7cf1-4e3a-da1e-c462f9a16a4b"
      },
      "source": [
        "import keras\n",
        "print('X_shape:{}\\nY_shape:{}'.format(train_X.shape, train_Y.shape))\n",
        "\n",
        "# Define model\n",
        "model = Sequential()\n",
        "model.add(Conv3D(32, kernel_size=(3, 3, 3), input_shape=(train_X.shape[1:]), padding='same'))\n",
        "model.add(Activation('relu'))\n",
        "model.add(Conv3D(32, kernel_size=(3, 3, 3), padding='same'))\n",
        "model.add(Activation('relu'))\n",
        "model.add(MaxPooling3D(pool_size=(3, 3, 3), padding='same'))\n",
        "model.add(Dropout(0.25))\n",
        "\n",
        "model.add(Conv3D(64, kernel_size=(3, 3, 3), padding='same'))\n",
        "model.add(Activation('relu'))\n",
        "model.add(Conv3D(64, kernel_size=(3, 3, 3), padding='same'))\n",
        "model.add(Activation('relu'))\n",
        "model.add(MaxPooling3D(pool_size=(3, 3, 3), padding='same'))\n",
        "model.add(Dropout(0.25))\n",
        "\n",
        "model.add(Flatten())\n",
        "\n",
        "optimizer = keras.optimizers.Adam(0.001)\n",
        "model.summary()"
      ],
      "execution_count": null,
      "outputs": [
        {
          "output_type": "stream",
          "text": [
            "X_shape:(1492, 112, 112, 5, 3)\n",
            "Y_shape:(1492,)\n",
            "Model: \"sequential\"\n",
            "_________________________________________________________________\n",
            "Layer (type)                 Output Shape              Param #   \n",
            "=================================================================\n",
            "conv3d (Conv3D)              (None, 112, 112, 5, 32)   2624      \n",
            "_________________________________________________________________\n",
            "activation (Activation)      (None, 112, 112, 5, 32)   0         \n",
            "_________________________________________________________________\n",
            "conv3d_1 (Conv3D)            (None, 112, 112, 5, 32)   27680     \n",
            "_________________________________________________________________\n",
            "activation_1 (Activation)    (None, 112, 112, 5, 32)   0         \n",
            "_________________________________________________________________\n",
            "max_pooling3d (MaxPooling3D) (None, 38, 38, 2, 32)     0         \n",
            "_________________________________________________________________\n",
            "dropout (Dropout)            (None, 38, 38, 2, 32)     0         \n",
            "_________________________________________________________________\n",
            "conv3d_2 (Conv3D)            (None, 38, 38, 2, 64)     55360     \n",
            "_________________________________________________________________\n",
            "activation_2 (Activation)    (None, 38, 38, 2, 64)     0         \n",
            "_________________________________________________________________\n",
            "conv3d_3 (Conv3D)            (None, 38, 38, 2, 64)     110656    \n",
            "_________________________________________________________________\n",
            "activation_3 (Activation)    (None, 38, 38, 2, 64)     0         \n",
            "_________________________________________________________________\n",
            "max_pooling3d_1 (MaxPooling3 (None, 13, 13, 1, 64)     0         \n",
            "_________________________________________________________________\n",
            "dropout_1 (Dropout)          (None, 13, 13, 1, 64)     0         \n",
            "_________________________________________________________________\n",
            "flatten (Flatten)            (None, 10816)             0         \n",
            "=================================================================\n",
            "Total params: 196,320\n",
            "Trainable params: 196,320\n",
            "Non-trainable params: 0\n",
            "_________________________________________________________________\n"
          ],
          "name": "stdout"
        }
      ]
    },
    {
      "cell_type": "code",
      "metadata": {
        "colab": {
          "base_uri": "https://localhost:8080/"
        },
        "id": "eKZl-VX4rcHy",
        "outputId": "6eacebeb-cb16-493f-d424-df464343f773"
      },
      "source": [
        "train_X.shape"
      ],
      "execution_count": null,
      "outputs": [
        {
          "output_type": "execute_result",
          "data": {
            "text/plain": [
              "(1492, 112, 112, 5, 3)"
            ]
          },
          "metadata": {
            "tags": []
          },
          "execution_count": 23
        }
      ]
    },
    {
      "cell_type": "code",
      "metadata": {
        "colab": {
          "base_uri": "https://localhost:8080/"
        },
        "id": "zuygbCXPre2D",
        "outputId": "f39b71db-bd8a-47b5-bc4e-345bce7660e4"
      },
      "source": [
        "train_Y.shape"
      ],
      "execution_count": null,
      "outputs": [
        {
          "output_type": "execute_result",
          "data": {
            "text/plain": [
              "(1492,)"
            ]
          },
          "metadata": {
            "tags": []
          },
          "execution_count": 24
        }
      ]
    },
    {
      "cell_type": "code",
      "metadata": {
        "colab": {
          "base_uri": "https://localhost:8080/"
        },
        "id": "PK_2zWA095TI",
        "outputId": "db14bcd1-8242-4a21-b544-72dfb765105a"
      },
      "source": [
        "test_X.shape"
      ],
      "execution_count": null,
      "outputs": [
        {
          "output_type": "execute_result",
          "data": {
            "text/plain": [
              "(611, 112, 112, 5, 3)"
            ]
          },
          "metadata": {
            "tags": []
          },
          "execution_count": 25
        }
      ]
    },
    {
      "cell_type": "code",
      "metadata": {
        "colab": {
          "base_uri": "https://localhost:8080/"
        },
        "id": "q9n1_3st98fX",
        "outputId": "72e89fb6-65f3-4830-9895-13f17f8c8694"
      },
      "source": [
        "test_Y.shape"
      ],
      "execution_count": null,
      "outputs": [
        {
          "output_type": "execute_result",
          "data": {
            "text/plain": [
              "(611,)"
            ]
          },
          "metadata": {
            "tags": []
          },
          "execution_count": 26
        }
      ]
    },
    {
      "cell_type": "code",
      "metadata": {
        "id": "V9IEefXDy_VW"
      },
      "source": [
        "ntrain_Y=[]\n",
        "ntest_Y=[]\n",
        "for i in train_Y:\n",
        "  if(i=='POSITIVE'):\n",
        "      ntrain_Y.append(0)\n",
        "  else:\n",
        "      ntrain_Y.append(1)\n",
        "\n",
        "for i in test_Y:\n",
        "  if(i=='POSITIVE'):\n",
        "      ntest_Y.append(0)\n",
        "  else:\n",
        "      ntest_Y.append(1)\n",
        "\n",
        "ntrain_Y = np_utils.to_categorical(ntrain_Y, nb_classes)\n",
        "ntest_Y = np_utils.to_categorical(ntest_Y, nb_classes)"
      ],
      "execution_count": null,
      "outputs": []
    },
    {
      "cell_type": "code",
      "metadata": {
        "id": "yIEcRdmZpDI9",
        "colab": {
          "base_uri": "https://localhost:8080/"
        },
        "outputId": "bf567b71-91b8-45ba-e58b-46bf4cea99b8"
      },
      "source": [
        "train_features=model.predict(train_X)\n",
        "print(train_features.shape)"
      ],
      "execution_count": null,
      "outputs": [
        {
          "output_type": "stream",
          "text": [
            "(1492, 10816)\n"
          ],
          "name": "stdout"
        }
      ]
    },
    {
      "cell_type": "code",
      "metadata": {
        "colab": {
          "base_uri": "https://localhost:8080/"
        },
        "id": "mPaA_3ph_Z8n",
        "outputId": "64dabd40-04af-46b4-b0e4-78baf70f1714"
      },
      "source": [
        "test_features=model.predict(test_X)\n",
        "print(test_features.shape)"
      ],
      "execution_count": null,
      "outputs": [
        {
          "output_type": "stream",
          "text": [
            "(611, 10816)\n"
          ],
          "name": "stdout"
        }
      ]
    },
    {
      "cell_type": "markdown",
      "metadata": {
        "id": "GSbR9JXND-5e"
      },
      "source": [
        "VIDEO CLASSIFICATION"
      ]
    },
    {
      "cell_type": "code",
      "metadata": {
        "colab": {
          "base_uri": "https://localhost:8080/"
        },
        "id": "VNsxJy-F_ftK",
        "outputId": "af146951-3ba1-4ab3-f663-44bdadd9a983"
      },
      "source": [
        "from sklearn.svm import SVC  \n",
        "clf = SVC(kernel='linear') \n",
        "  \n",
        "clf.fit(train_features, train_Y) "
      ],
      "execution_count": null,
      "outputs": [
        {
          "output_type": "execute_result",
          "data": {
            "text/plain": [
              "SVC(C=1.0, break_ties=False, cache_size=200, class_weight=None, coef0=0.0,\n",
              "    decision_function_shape='ovr', degree=3, gamma='scale', kernel='linear',\n",
              "    max_iter=-1, probability=False, random_state=None, shrinking=True,\n",
              "    tol=0.001, verbose=False)"
            ]
          },
          "metadata": {
            "tags": []
          },
          "execution_count": 30
        }
      ]
    },
    {
      "cell_type": "code",
      "metadata": {
        "id": "OONutftG_fgD"
      },
      "source": [
        "pred=clf.predict(test_features)"
      ],
      "execution_count": null,
      "outputs": []
    },
    {
      "cell_type": "code",
      "metadata": {
        "id": "lX-kg0PmAN-_"
      },
      "source": [
        "from sklearn.metrics import classification_report\n",
        "print(classification_report(test_Y,pred))"
      ],
      "execution_count": null,
      "outputs": []
    },
    {
      "cell_type": "code",
      "metadata": {
        "colab": {
          "base_uri": "https://localhost:8080/",
          "height": 406
        },
        "id": "7z_4p9ekCPxS",
        "outputId": "22d26016-0bcf-4bf0-d5f5-9f02ebd238b9"
      },
      "source": [
        "import seaborn as sn\n",
        "import matplotlib.pyplot as plt\n",
        "\n",
        "from sklearn.metrics import classification_report, confusion_matrix\n",
        "\n",
        "cm=confusion_matrix(test_Y, pred)\n",
        "\n",
        "plt.figure(figsize=(9,6))\n",
        "sn.heatmap(cm,annot=True,fmt='d')\n",
        "plt.xlabel('Predicted')\n",
        "plt.ylabel('Truth value')"
      ],
      "execution_count": null,
      "outputs": [
        {
          "output_type": "execute_result",
          "data": {
            "text/plain": [
              "Text(60.0, 0.5, 'Truth value')"
            ]
          },
          "metadata": {
            "tags": []
          },
          "execution_count": 32
        },
        {
          "output_type": "display_data",
          "data": {
            "image/png": "[encoded data removed]",
            "text/plain": [
              "<Figure size 648x432 with 2 Axes>"
            ]
          },
          "metadata": {
            "tags": [],
            "needs_background": "light"
          }
        }
      ]
    },
    {
      "cell_type": "markdown",
      "metadata": {
        "id": "YcVtWenSC096"
      },
      "source": [
        "A+V+T FUSION"
      ]
    },
    {
      "cell_type": "code",
      "metadata": {
        "colab": {
          "base_uri": "https://localhost:8080/"
        },
        "id": "59ter53XZClj",
        "outputId": "db0b6308-7f41-49bd-ee3e-54249cf811f8"
      },
      "source": [
        "from sklearn import svm\n",
        "from sklearn.decomposition import PCA\n",
        "\n",
        "#.99 means that we want to include 99% of the variance\n",
        "pca=PCA(.99)\n",
        "vid_new_train=pca.fit_transform(train_features)\n",
        "vid_new_test=pca.transform(test_features)\n",
        "\n",
        "print(vid_new_train.shape)\n",
        "print(vid_new_test.shape)"
      ],
      "execution_count": null,
      "outputs": [
        {
          "output_type": "stream",
          "text": [
            "(1492, 535)\n",
            "(611, 535)\n"
          ],
          "name": "stdout"
        }
      ]
    },
    {
      "cell_type": "code",
      "metadata": {
        "colab": {
          "base_uri": "https://localhost:8080/"
        },
        "id": "GEOKZF9xC00Q",
        "outputId": "923f496e-9b87-426b-9616-72db8bdffb1d"
      },
      "source": [
        "TRAIN_FUSED_features=np.hstack((text_f,audio_f,vid_new_train))\n",
        "TRAIN_FUSED_features.shape"
      ],
      "execution_count": null,
      "outputs": [
        {
          "output_type": "execute_result",
          "data": {
            "text/plain": [
              "(1492, 3108)"
            ]
          },
          "metadata": {
            "tags": []
          },
          "execution_count": 47
        }
      ]
    },
    {
      "cell_type": "code",
      "metadata": {
        "id": "68XoPiNJC0rd"
      },
      "source": [
        "TEST_FUSED_features=np.hstack((text_test_f,audio_test_f,vid_new_test))"
      ],
      "execution_count": null,
      "outputs": []
    },
    {
      "cell_type": "code",
      "metadata": {
        "colab": {
          "base_uri": "https://localhost:8080/"
        },
        "id": "wzYOJTIxC0gw",
        "outputId": "8c9a0b71-2033-45bc-de47-a6f54ffb2843"
      },
      "source": [
        "TEST_FUSED_features.shape"
      ],
      "execution_count": null,
      "outputs": [
        {
          "output_type": "execute_result",
          "data": {
            "text/plain": [
              "(611, 3108)"
            ]
          },
          "metadata": {
            "tags": []
          },
          "execution_count": 49
        }
      ]
    },
    {
      "cell_type": "code",
      "metadata": {
        "id": "W6mSyGi9bHlW"
      },
      "source": [
        "#normalization\n",
        "from sklearn.preprocessing import MinMaxScaler\n",
        "\n",
        "norm=MinMaxScaler().fit(TRAIN_FUSED_features)\n",
        "\n",
        "X_train_norm=norm.transform(TRAIN_FUSED_features)\n",
        "X_test_norm=norm.transform(TEST_FUSED_features)"
      ],
      "execution_count": null,
      "outputs": []
    },
    {
      "cell_type": "code",
      "metadata": {
        "colab": {
          "base_uri": "https://localhost:8080/"
        },
        "id": "QLcds3wUbHZo",
        "outputId": "5e4720a5-b2bf-409d-a793-65e8d102b663"
      },
      "source": [
        "from sklearn import svm\n",
        "from sklearn.decomposition import PCA\n",
        "\n",
        "#.99 means that we want to include 99% of the variance\n",
        "pca=PCA(.99)\n",
        "X_train_pca=pca.fit_transform(X_train_norm)\n",
        "X_test_pca=pca.transform(X_test_norm)\n",
        "\n",
        "print(X_train_pca.shape)\n",
        "print(X_test_pca.shape)\n"
      ],
      "execution_count": null,
      "outputs": [
        {
          "output_type": "stream",
          "text": [
            "(1492, 1218)\n",
            "(611, 1218)\n"
          ],
          "name": "stdout"
        }
      ]
    },
    {
      "cell_type": "code",
      "metadata": {
        "id": "7J5Hu7i4bHMr"
      },
      "source": [
        "model=svm.SVC(kernel='linear').fit(X_train_pca,y_train)"
      ],
      "execution_count": null,
      "outputs": []
    },
    {
      "cell_type": "code",
      "metadata": {
        "id": "1Yo1kVW2bZ03"
      },
      "source": [
        "predict=model.predict(X_test_pca)"
      ],
      "execution_count": null,
      "outputs": []
    },
    {
      "cell_type": "code",
      "metadata": {
        "colab": {
          "base_uri": "https://localhost:8080/"
        },
        "id": "UGU-a7IPbZ9r",
        "outputId": "36b2372d-6dc6-468d-d74b-b2c5ef1ac5cf"
      },
      "source": [
        "from sklearn.metrics import classification_report\n",
        "print(classification_report(y_test,predict))"
      ],
      "execution_count": null,
      "outputs": [
        {
          "output_type": "stream",
          "text": [
            "              precision    recall  f1-score   support\n",
            "\n",
            "    NEGATIVE       0.66      0.65      0.66       336\n",
            "    POSITIVE       0.58      0.59      0.59       275\n",
            "\n",
            "    accuracy                           0.63       611\n",
            "   macro avg       0.62      0.62      0.62       611\n",
            "weighted avg       0.63      0.63      0.63       611\n",
            "\n"
          ],
          "name": "stdout"
        }
      ]
    },
    {
      "cell_type": "markdown",
      "metadata": {
        "id": "7ubHrGpoFXTA"
      },
      "source": [
        "V + T Fusion"
      ]
    },
    {
      "cell_type": "code",
      "metadata": {
        "colab": {
          "base_uri": "https://localhost:8080/"
        },
        "id": "ucEMspeaFXV_",
        "outputId": "2b99962d-5cb8-46f6-aed7-6b7bfccdd94f"
      },
      "source": [
        "TRAIN_vt_features=np.hstack((text_f,vid_new_train))\n",
        "TRAIN_vt_features.shape"
      ],
      "execution_count": null,
      "outputs": [
        {
          "output_type": "execute_result",
          "data": {
            "text/plain": [
              "(1492, 2972)"
            ]
          },
          "metadata": {
            "tags": []
          },
          "execution_count": 55
        }
      ]
    },
    {
      "cell_type": "code",
      "metadata": {
        "colab": {
          "base_uri": "https://localhost:8080/"
        },
        "id": "k3LKw9L8FXYV",
        "outputId": "270210ad-65bc-4a6c-9f62-4bb30b4c57fa"
      },
      "source": [
        "TEST_vt_features=np.hstack((text_test_f,vid_new_test))\n",
        "TEST_vt_features.shape"
      ],
      "execution_count": null,
      "outputs": [
        {
          "output_type": "execute_result",
          "data": {
            "text/plain": [
              "(611, 2972)"
            ]
          },
          "metadata": {
            "tags": []
          },
          "execution_count": 56
        }
      ]
    },
    {
      "cell_type": "code",
      "metadata": {
        "id": "RYmxXQ5FFXbF"
      },
      "source": [
        "#normalization\n",
        "from sklearn.preprocessing import MinMaxScaler\n",
        "\n",
        "norm=MinMaxScaler().fit(TRAIN_vt_features)\n",
        "\n",
        "X_train_norm=norm.transform(TRAIN_vt_features)\n",
        "X_test_norm=norm.transform(TEST_vt_features)"
      ],
      "execution_count": null,
      "outputs": []
    },
    {
      "cell_type": "code",
      "metadata": {
        "id": "jj8Y-eoAFXdA"
      },
      "source": [
        "from sklearn import svm\n",
        "from sklearn.decomposition import PCA\n",
        "\n",
        "#.99 means that we want to include 99% of the variance\n",
        "pca=PCA(.99)\n",
        "X_train_pca=pca.fit_transform(X_train_norm)\n",
        "X_test_pca=pca.transform(X_test_norm)\n",
        "\n",
        "model=svm.SVC(kernel='linear').fit(X_train_pca,y_train)"
      ],
      "execution_count": null,
      "outputs": []
    },
    {
      "cell_type": "code",
      "metadata": {
        "id": "FsZZc48fFXf6"
      },
      "source": [
        "predict=model.predict(X_test_pca)"
      ],
      "execution_count": null,
      "outputs": []
    },
    {
      "cell_type": "code",
      "metadata": {
        "colab": {
          "base_uri": "https://localhost:8080/"
        },
        "id": "HMgrcLOKGIwj",
        "outputId": "dcc5e1af-ac6c-4042-e19d-279818165b72"
      },
      "source": [
        "y_test=np.array(y_test)\n",
        "y_test.shape"
      ],
      "execution_count": null,
      "outputs": [
        {
          "output_type": "execute_result",
          "data": {
            "text/plain": [
              "(611,)"
            ]
          },
          "metadata": {
            "tags": []
          },
          "execution_count": 61
        }
      ]
    },
    {
      "cell_type": "code",
      "metadata": {
        "colab": {
          "base_uri": "https://localhost:8080/"
        },
        "id": "ULNCnzf1GI_C",
        "outputId": "f02de07e-08e6-47ee-ae27-ff6a450e1af2"
      },
      "source": [
        "from sklearn.metrics import classification_report\n",
        "print(classification_report(y_test,predict))"
      ],
      "execution_count": null,
      "outputs": [
        {
          "output_type": "stream",
          "text": [
            "              precision    recall  f1-score   support\n",
            "\n",
            "    NEGATIVE       0.67      0.69      0.68       336\n",
            "    POSITIVE       0.61      0.58      0.59       275\n",
            "\n",
            "    accuracy                           0.64       611\n",
            "   macro avg       0.64      0.64      0.64       611\n",
            "weighted avg       0.64      0.64      0.64       611\n",
            "\n"
          ],
          "name": "stdout"
        }
      ]
    },
    {
      "cell_type": "markdown",
      "metadata": {
        "id": "wfCDx7x7TMLn"
      },
      "source": [
        "A + V fusion"
      ]
    },
    {
      "cell_type": "code",
      "metadata": {
        "colab": {
          "base_uri": "https://localhost:8080/"
        },
        "id": "BW5w3pL8HF8c",
        "outputId": "07ae7927-56b0-428b-9793-2deaa9571065"
      },
      "source": [
        "TRAIN_at_features=np.hstack((audio_f,vid_new_train))\n",
        "TRAIN_at_features.shape"
      ],
      "execution_count": null,
      "outputs": [
        {
          "output_type": "execute_result",
          "data": {
            "text/plain": [
              "(1492, 671)"
            ]
          },
          "metadata": {
            "tags": []
          },
          "execution_count": 64
        }
      ]
    },
    {
      "cell_type": "code",
      "metadata": {
        "colab": {
          "base_uri": "https://localhost:8080/"
        },
        "id": "WUboTpynHF_5",
        "outputId": "60dd1c37-e729-4bbf-f393-2fb26a18fb49"
      },
      "source": [
        "TEST_at_features=np.hstack((audio_test_f,vid_new_test))\n",
        "TEST_at_features.shape"
      ],
      "execution_count": null,
      "outputs": [
        {
          "output_type": "execute_result",
          "data": {
            "text/plain": [
              "(611, 671)"
            ]
          },
          "metadata": {
            "tags": []
          },
          "execution_count": 65
        }
      ]
    },
    {
      "cell_type": "code",
      "metadata": {
        "id": "GW6GTdiGHGDv"
      },
      "source": [
        "#normalization\n",
        "from sklearn.preprocessing import MinMaxScaler\n",
        "\n",
        "norm=MinMaxScaler().fit(TRAIN_at_features)\n",
        "\n",
        "X_train_norm=norm.transform(TRAIN_at_features)\n",
        "X_test_norm=norm.transform(TEST_at_features)"
      ],
      "execution_count": null,
      "outputs": []
    },
    {
      "cell_type": "code",
      "metadata": {
        "id": "zSJs-E5PHGGd"
      },
      "source": [
        "from sklearn import svm\n",
        "from sklearn.decomposition import PCA\n",
        "\n",
        "#.99 means that we want to include 99% of the variance\n",
        "pca=PCA(.99)\n",
        "X_train_pca=pca.fit_transform(X_train_norm)\n",
        "X_test_pca=pca.transform(X_test_norm)\n",
        "\n",
        "model=svm.SVC(kernel='linear').fit(X_train_pca,y_train)"
      ],
      "execution_count": null,
      "outputs": []
    },
    {
      "cell_type": "code",
      "metadata": {
        "id": "-3aByanjHGJH"
      },
      "source": [
        "predict=model.predict(X_test_pca)"
      ],
      "execution_count": null,
      "outputs": []
    },
    {
      "cell_type": "code",
      "metadata": {
        "colab": {
          "base_uri": "https://localhost:8080/"
        },
        "id": "Hqer9_bpHGLR",
        "outputId": "29fca3a1-9160-416d-b6e7-1d5ce52da0bf"
      },
      "source": [
        "y_test=np.array(y_test)\n",
        "y_test.shape"
      ],
      "execution_count": null,
      "outputs": [
        {
          "output_type": "execute_result",
          "data": {
            "text/plain": [
              "(611,)"
            ]
          },
          "metadata": {
            "tags": []
          },
          "execution_count": 69
        }
      ]
    },
    {
      "cell_type": "code",
      "metadata": {
        "colab": {
          "base_uri": "https://localhost:8080/"
        },
        "id": "msiwM610HGNw",
        "outputId": "7e176a83-ebd9-47ec-e5f2-4de32a97116a"
      },
      "source": [
        "from sklearn.metrics import classification_report\n",
        "print(classification_report(y_test,predict))"
      ],
      "execution_count": null,
      "outputs": [
        {
          "output_type": "stream",
          "text": [
            "              precision    recall  f1-score   support\n",
            "\n",
            "    NEGATIVE       0.60      0.50      0.55       336\n",
            "    POSITIVE       0.49      0.59      0.54       275\n",
            "\n",
            "    accuracy                           0.54       611\n",
            "   macro avg       0.55      0.55      0.54       611\n",
            "weighted avg       0.55      0.54      0.54       611\n",
            "\n"
          ],
          "name": "stdout"
        }
      ]
    },
    {
      "cell_type": "code",
      "metadata": {
        "id": "tHahqkdds-nS"
      },
      "source": [
        ""
      ],
      "execution_count": null,
      "outputs": []
    }
  ]
}