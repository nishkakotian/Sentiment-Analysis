{
 "cells": [
  {
   "cell_type": "markdown",
   "metadata": {},
   "source": [
    "# Creating Test.csv and Train.csv"
   ]
  },
  {
   "cell_type": "code",
   "execution_count": null,
   "metadata": {},
   "outputs": [],
   "source": [
    "import csv\n",
    "#prepare the training file\n",
    "with open('train.csv','w') as f:\n",
    "    with open('OpinionLevelSentiment.csv') as csv_file:\n",
    "        csv_writer = csv.writer(f, delimiter=',')\n",
    "        csv_reader = csv.reader(csv_file, delimiter=',')\n",
    "        line_count = 0\n",
    "        videocount=0\n",
    "        for row in csv_reader:\n",
    "            if line_count == 0:\n",
    "                csv_writer.writerow(['Transcript', 'Sentiment'])\n",
    "                line_count += 1\n",
    "            else:\n",
    "                name=row[2]\n",
    "                segment=row[3]\n",
    "                if segment == '1':\n",
    "                    videocount+=1\n",
    "                    if videocount == 63:\n",
    "                        break\n",
    "                with open('CMU_MOSI/Raw/Transcript/Segmented/'+name+'.annotprocessed') as csv_transcipt_file:\n",
    "                    line=0\n",
    "                    for ro in csv_transcipt_file:\n",
    "                        v1=ro[0]\n",
    "                        v2=ro[1]\n",
    "                        if v1 == segment:\n",
    "                            if(float(row[4])>0):\n",
    "                                csv_writer.writerow([ro[8:],'POSITIVE'])\n",
    "                            elif(float(row[4])<0):\n",
    "                                csv_writer.writerow([ro[8:],'NEGATIVE'])\n",
    "                            break\n",
    "                        elif v1+v2 == segment:\n",
    "                            if(float(row[4])>0):\n",
    "                                csv_writer.writerow([ro[9:],'POSITIVE'])\n",
    "                            elif(float(row[4])<0):\n",
    "                                csv_writer.writerow([ro[9:],'NEGATIVE'])\n",
    "                            break\n",
    "                        else:\n",
    "                            line+=1\n"
   ]
  },
  {
   "cell_type": "code",
   "execution_count": null,
   "metadata": {},
   "outputs": [],
   "source": [
    "print(videocount)"
   ]
  },
  {
   "cell_type": "code",
   "execution_count": null,
   "metadata": {},
   "outputs": [],
   "source": [
    "#prepare the testing file\n",
    "with open('test.csv','w') as f:\n",
    "    with open('OpinionLevelSentiment.csv') as csv_file:\n",
    "        csv_writer = csv.writer(f, delimiter=',')\n",
    "        csv_reader = csv.reader(csv_file, delimiter=',')\n",
    "        line_count = 0\n",
    "        videocount=0\n",
    "        for row in csv_reader:\n",
    "            if line_count == 0:\n",
    "                csv_writer.writerow(['Transcript', 'Sentiment'])\n",
    "                line_count += 1\n",
    "            else:\n",
    "                name=row[2]\n",
    "                segment=row[3]\n",
    "                if segment == '1':\n",
    "                    videocount+=1\n",
    "                \n",
    "                if videocount >= 63:\n",
    "                    with open('CMU_MOSI/Raw/Transcript/Segmented/'+name+'.annotprocessed') as csv_transcipt_file:\n",
    "                        line=0\n",
    "                        for ro in csv_transcipt_file:\n",
    "                            v1=ro[0]\n",
    "                            v2=ro[1]\n",
    "                            if(float(row[4])>0):\n",
    "                                sentiment='positive'\n",
    "                            elif(float(row[4])<0):\n",
    "                                sentiment='negative'\n",
    "                            if v1 == segment:\n",
    "                                if(float(row[4])>0):\n",
    "                                    csv_writer.writerow([ro[8:],'POSITIVE'])\n",
    "                                elif(float(row[4])<0):\n",
    "                                    csv_writer.writerow([ro[8:],'NEGATIVE'])\n",
    "                                break\n",
    "                            elif v1+v2 == segment:\n",
    "                                if(float(row[4])>0):\n",
    "                                    csv_writer.writerow([ro[9:],'POSITIVE'])\n",
    "                                elif(float(row[4])<0):\n",
    "                                    csv_writer.writerow([ro[9:],'NEGATIVE'])\n",
    "                                break\n",
    "                            else:\n",
    "                                line+=1\n",
    "            line_count += 1\n"
   ]
  },
  {
   "cell_type": "code",
   "execution_count": null,
   "metadata": {},
   "outputs": [],
   "source": [
    "print(videocount)"
   ]
  },
  {
   "cell_type": "code",
   "execution_count": null,
   "metadata": {},
   "outputs": [],
   "source": []
  }
 ],
 "metadata": {
  "kernelspec": {
   "display_name": "Python 3",
   "language": "python",
   "name": "python3"
  },
  "language_info": {
   "codemirror_mode": {
    "name": "ipython",
    "version": 3
   },
   "file_extension": ".py",
   "mimetype": "text/x-python",
   "name": "python",
   "nbconvert_exporter": "python",
   "pygments_lexer": "ipython3",
   "version": "3.8.3"
  }
 },
 "nbformat": 4,
 "nbformat_minor": 4
}
