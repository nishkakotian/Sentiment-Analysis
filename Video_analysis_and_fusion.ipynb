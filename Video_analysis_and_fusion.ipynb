{
  "nbformat": 4,
  "nbformat_minor": 0,
  "metadata": {
    "colab": {
      "name": "Video_analysis_and_fusionipynb",
      "provenance": [],
      "collapsed_sections": []
    },
    "kernelspec": {
      "name": "python3",
      "display_name": "Python 3"
    },
    "language_info": {
      "name": "python"
    }
  },
  "cells": [
    {
      "cell_type": "code",
      "metadata": {
        "id": "98vFWfTePhgF",
        "colab": {
          "base_uri": "https://localhost:8080/"
        },
        "outputId": "fcdf9715-c881-456f-8d16-09cbd081c7a2"
      },
      "source": [
        "from google.colab import drive\n",
        "\n",
        "drive.mount('/content/gdrive')"
      ],
      "execution_count": null,
      "outputs": [
        {
          "output_type": "stream",
          "text": [
            "Mounted at /content/gdrive\n"
          ],
          "name": "stdout"
        }
      ]
    },
    {
      "cell_type": "code",
      "metadata": {
        "colab": {
          "base_uri": "https://localhost:8080/"
        },
        "id": "FODcpYklP7Dp",
        "outputId": "b4b2242a-fa03-4e81-b41c-29608ac18c5f"
      },
      "source": [
        "cd gdrive/MyDrive/Colab Notebooks/VIDEO_ANALYSIS"
      ],
      "execution_count": null,
      "outputs": [
        {
          "output_type": "stream",
          "text": [
            "/content/gdrive/MyDrive/Colab Notebooks/VIDEO_ANALYSIS\n"
          ],
          "name": "stdout"
        }
      ]
    },
    {
      "cell_type": "code",
      "metadata": {
        "id": "BfeM4qOu7Y92"
      },
      "source": [
        "import pandas as pd\n",
        "df = pd.read_csv('train.csv')\n",
        "df_test=pd.read_csv('test.csv')"
      ],
      "execution_count": null,
      "outputs": []
    },
    {
      "cell_type": "code",
      "metadata": {
        "colab": {
          "base_uri": "https://localhost:8080/",
          "height": 204
        },
        "id": "pwaRrmZU7YoU",
        "outputId": "2248e028-dbcc-4d77-e03c-c352f48c4865"
      },
      "source": [
        "from sklearn.feature_extraction.text import TfidfVectorizer\n",
        "from sklearn.svm import LinearSVC\n",
        "from sklearn.metrics import classification_report\n",
        "\n",
        "df = df.replace('\\n','', regex=True)\n",
        "df.head()"
      ],
      "execution_count": null,
      "outputs": [
        {
          "output_type": "execute_result",
          "data": {
            "text/html": [
              "<div>\n",
              "<style scoped>\n",
              "    .dataframe tbody tr th:only-of-type {\n",
              "        vertical-align: middle;\n",
              "    }\n",
              "\n",
              "    .dataframe tbody tr th {\n",
              "        vertical-align: top;\n",
              "    }\n",
              "\n",
              "    .dataframe thead th {\n",
              "        text-align: right;\n",
              "    }\n",
              "</style>\n",
              "<table border=\"1\" class=\"dataframe\">\n",
              "  <thead>\n",
              "    <tr style=\"text-align: right;\">\n",
              "      <th></th>\n",
              "      <th>Transcript</th>\n",
              "      <th>Sentiment</th>\n",
              "    </tr>\n",
              "  </thead>\n",
              "  <tbody>\n",
              "    <tr>\n",
              "      <th>0</th>\n",
              "      <td>BUT I CAN SAFELY ASSURE YOU THAT EVEN IF THEY...</td>\n",
              "      <td>POSITIVE</td>\n",
              "    </tr>\n",
              "    <tr>\n",
              "      <th>1</th>\n",
              "      <td>AND I LOVED IT</td>\n",
              "      <td>POSITIVE</td>\n",
              "    </tr>\n",
              "    <tr>\n",
              "      <th>2</th>\n",
              "      <td>I DONT KNOW IF FANS OF THE COMIC WOULD BE AS I...</td>\n",
              "      <td>NEGATIVE</td>\n",
              "    </tr>\n",
              "    <tr>\n",
              "      <th>3</th>\n",
              "      <td>BUT JUST GOING INTO THIS A AS AN OBSERVER AND ...</td>\n",
              "      <td>POSITIVE</td>\n",
              "    </tr>\n",
              "    <tr>\n",
              "      <th>4</th>\n",
              "      <td>AND I WOULD TELL YOU RIGHT NOW IT WAS HILARIOUS</td>\n",
              "      <td>POSITIVE</td>\n",
              "    </tr>\n",
              "  </tbody>\n",
              "</table>\n",
              "</div>"
            ],
            "text/plain": [
              "                                          Transcript Sentiment\n",
              "0   BUT I CAN SAFELY ASSURE YOU THAT EVEN IF THEY...  POSITIVE\n",
              "1                                     AND I LOVED IT  POSITIVE\n",
              "2  I DONT KNOW IF FANS OF THE COMIC WOULD BE AS I...  NEGATIVE\n",
              "3  BUT JUST GOING INTO THIS A AS AN OBSERVER AND ...  POSITIVE\n",
              "4    AND I WOULD TELL YOU RIGHT NOW IT WAS HILARIOUS  POSITIVE"
            ]
          },
          "metadata": {
            "tags": []
          },
          "execution_count": 5
        }
      ]
    },
    {
      "cell_type": "code",
      "metadata": {
        "id": "XCtz-vFA7Yd9"
      },
      "source": [
        "X_train,y_train = df[['Transcript']],df[['Sentiment']]\n",
        "X_test,y_test = df_test[['Transcript']],df_test['Sentiment']\n",
        "\n",
        "from sklearn.feature_extraction.text import CountVectorizer\n",
        "vectorizer = CountVectorizer(analyzer = \"word\",   \\\n",
        "                             tokenizer = None,    \\\n",
        "                             preprocessor = None, \\\n",
        "                             stop_words = None,   \\\n",
        "                             max_features = 4000) \n",
        "\n",
        "# create bag of words vector for the training set using countVectorizer\n",
        "train_data_features = vectorizer.fit_transform(X_train['Transcript'].values)\n",
        "\n",
        "# tf-idf transformer initialization\n",
        "from sklearn.feature_extraction.text import TfidfTransformer\n",
        "tfidf_transformer = TfidfTransformer()\n",
        "\n",
        "# create tfidf transformed vector  for the training set using tf-idf transformer\n",
        "X_train_tfidf = tfidf_transformer.fit_transform(train_data_features)"
      ],
      "execution_count": null,
      "outputs": []
    },
    {
      "cell_type": "code",
      "metadata": {
        "id": "SxAHIigl7YRJ"
      },
      "source": [
        "test_data_features = vectorizer.transform(X_test['Transcript'].values)\n",
        "X_test_tfidf = tfidf_transformer.transform(test_data_features)"
      ],
      "execution_count": null,
      "outputs": []
    },
    {
      "cell_type": "code",
      "metadata": {
        "id": "_pomhYV_7scH"
      },
      "source": [
        "import numpy as np\n",
        "\n",
        "audio_f=[]\n",
        "labels=[]\n",
        "j=0\n",
        "with open('audio_train_features.arff') as f:\n",
        "    for i in range(140):\n",
        "        next(f)\n",
        "    for line in f:\n",
        "        line=line[:-10]\n",
        "        v=list(map(float, line.split(\",\")))\n",
        "        audio_f.append(v)\n",
        "        j+=1"
      ],
      "execution_count": null,
      "outputs": []
    },
    {
      "cell_type": "code",
      "metadata": {
        "colab": {
          "base_uri": "https://localhost:8080/"
        },
        "id": "VmfnMTG47sT0",
        "outputId": "0f5c9f7a-6d50-4069-e3c3-655bbafa0840"
      },
      "source": [
        "audio_f=np.array(audio_f)\n",
        "audio_f.shape"
      ],
      "execution_count": null,
      "outputs": [
        {
          "output_type": "execute_result",
          "data": {
            "text/plain": [
              "(1492, 136)"
            ]
          },
          "metadata": {
            "tags": []
          },
          "execution_count": 9
        }
      ]
    },
    {
      "cell_type": "code",
      "metadata": {
        "colab": {
          "base_uri": "https://localhost:8080/"
        },
        "id": "TprSaaPh7sL8",
        "outputId": "846f0856-ffce-4636-bf1d-394eeec5365e"
      },
      "source": [
        "import scipy\n",
        "text_f=X_train_tfidf.toarray()\n",
        "text_f.shape"
      ],
      "execution_count": null,
      "outputs": [
        {
          "output_type": "execute_result",
          "data": {
            "text/plain": [
              "(1492, 2437)"
            ]
          },
          "metadata": {
            "tags": []
          },
          "execution_count": 10
        }
      ]
    },
    {
      "cell_type": "code",
      "metadata": {
        "colab": {
          "base_uri": "https://localhost:8080/"
        },
        "id": "0vX_fxbh_fPI",
        "outputId": "a9ff18c0-b58c-48b6-fbd1-78bf46c72468"
      },
      "source": [
        "text_test_f=X_test_tfidf.toarray()\n",
        "text_test_f.shape"
      ],
      "execution_count": null,
      "outputs": [
        {
          "output_type": "execute_result",
          "data": {
            "text/plain": [
              "(611, 2437)"
            ]
          },
          "metadata": {
            "tags": []
          },
          "execution_count": 24
        }
      ]
    },
    {
      "cell_type": "code",
      "metadata": {
        "id": "hbXpXPy0_fap"
      },
      "source": [
        "import numpy as np\n",
        "\n",
        "audio_test_f=[]\n",
        "test_labels=[]\n",
        "j=0\n",
        "with open('audio_test_features.arff') as f:\n",
        "    for i in range(140):\n",
        "        next(f)\n",
        "    for line in f:\n",
        "        line=line[:-10]\n",
        "        v=list(map(float, line.split(\",\")))\n",
        "        audio_test_f.append(v)\n",
        "        j+=1"
      ],
      "execution_count": null,
      "outputs": []
    },
    {
      "cell_type": "code",
      "metadata": {
        "colab": {
          "base_uri": "https://localhost:8080/"
        },
        "id": "6S1hASu0_fkt",
        "outputId": "4538eb9b-293c-43b0-c82d-5142a0771ab1"
      },
      "source": [
        "audio_test_f=np.array(audio_test_f)\n",
        "audio_test_f.shape"
      ],
      "execution_count": null,
      "outputs": [
        {
          "output_type": "execute_result",
          "data": {
            "text/plain": [
              "(611, 136)"
            ]
          },
          "metadata": {
            "tags": []
          },
          "execution_count": 26
        }
      ]
    },
    {
      "cell_type": "code",
      "metadata": {
        "id": "stWvisX3DGfK"
      },
      "source": [
        "#Labels"
      ],
      "execution_count": null,
      "outputs": []
    },
    {
      "cell_type": "code",
      "metadata": {
        "colab": {
          "base_uri": "https://localhost:8080/"
        },
        "id": "F4VXbK3B_qL3",
        "outputId": "a6e7dc69-db92-4fa3-c86b-54f519dd8c04"
      },
      "source": [
        "y_train.shape"
      ],
      "execution_count": null,
      "outputs": [
        {
          "output_type": "execute_result",
          "data": {
            "text/plain": [
              "(1492, 1)"
            ]
          },
          "metadata": {
            "tags": []
          },
          "execution_count": 27
        }
      ]
    },
    {
      "cell_type": "code",
      "metadata": {
        "colab": {
          "base_uri": "https://localhost:8080/"
        },
        "id": "sYZ2nxUMDD34",
        "outputId": "f5a8c86d-9892-4981-bf54-ddd29271d259"
      },
      "source": [
        "y_test.shape"
      ],
      "execution_count": null,
      "outputs": [
        {
          "output_type": "execute_result",
          "data": {
            "text/plain": [
              "(611,)"
            ]
          },
          "metadata": {
            "tags": []
          },
          "execution_count": 28
        }
      ]
    },
    {
      "cell_type": "markdown",
      "metadata": {
        "id": "disPB_gxIWwz"
      },
      "source": [
        "VIDEO ANALYSIS"
      ]
    },
    {
      "cell_type": "code",
      "metadata": {
        "id": "x-AchpNAPq0G"
      },
      "source": [
        "import numpy as np\n",
        "import cv2\n",
        "\n",
        "\n",
        "class Videoto3D:\n",
        "\n",
        "    def __init__(self, width, height, depth):\n",
        "        self.width = width\n",
        "        self.height = height\n",
        "        self.depth = depth\n",
        "\n",
        "    def video3d(self, filename, color=True, skip=True):\n",
        "        cap = cv2.VideoCapture(filename)\n",
        "        nframe = cap.get(cv2.CAP_PROP_FRAME_COUNT)\n",
        "        if skip:\n",
        "            frames = [x * nframe / self.depth for x in range(self.depth)]\n",
        "        else:\n",
        "            frames = [x for x in range(self.depth)]\n",
        "        framearray = []\n",
        "\n",
        "        for i in range(self.depth):\n",
        "            cap.set(cv2.CAP_PROP_POS_FRAMES, frames[i])\n",
        "            ret, frame = cap.read()\n",
        "            frame = cv2.resize(frame, (self.height, self.width))\n",
        "            if color:\n",
        "                framearray.append(frame)\n",
        "            else:\n",
        "                framearray.append(cv2.cvtColor(frame, cv2.COLOR_BGR2GRAY))\n",
        "\n",
        "        cap.release()\n",
        "        return np.array(framearray)"
      ],
      "execution_count": null,
      "outputs": []
    },
    {
      "cell_type": "code",
      "metadata": {
        "id": "mUrK9rEeQ0CW"
      },
      "source": [
        "import os\n",
        "import numpy as np\n",
        "from keras.layers import (Activation, Conv3D, Dense, Dropout, Flatten,MaxPooling3D)\n",
        "from keras.layers.advanced_activations import LeakyReLU\n",
        "from keras.losses import categorical_crossentropy\n",
        "from keras.models import Sequential\n",
        "from keras.optimizers import Adam\n",
        "from keras.utils import np_utils\n",
        "from keras.utils.vis_utils import plot_model\n",
        "from keras.layers import ELU\n",
        "\n",
        "def loaddata(video_dir, vid3d, nclass, color=False, skip=True):\n",
        "    classes = os.listdir(video_dir)\n",
        "    X = []\n",
        "    labels = []\n",
        "\n",
        "    for classname in classes:\n",
        "      files=os.path.join(video_dir,classname)\n",
        "      for filename in os.listdir(files):\n",
        "          name = os.path.join(files,filename)\n",
        "          label = classname\n",
        "          labels.append(label)\n",
        "          X.append(vid3d.video3d(name, color=color, skip=skip))\n",
        "\n",
        "    if color:\n",
        "        return np.array(X).transpose((0, 2, 3, 4, 1)), labels\n",
        "    else:\n",
        "        return np.array(X).transpose((0, 2, 3, 1)), labels\n",
        "\n",
        "img_rows, img_cols, frames = 112,112,5\n",
        "channel = 3 #when color=True otherwise it should be 1\n",
        "\n",
        "vid3d = Videoto3D(img_rows, img_cols, frames)\n",
        "nb_classes = 2\n",
        "x, y = loaddata('/content/gdrive/MyDrive/Colab Notebooks/VIDEO_ANALYSIS/TRAIN', vid3d, nb_classes, True, True)\n",
        "tx,ty= loaddata('/content/gdrive/MyDrive/Colab Notebooks/VIDEO_ANALYSIS/TEST', vid3d, nb_classes, True, True)\n",
        "train_X = x.reshape((x.shape[0], img_rows, img_cols, frames, channel))\n",
        "test_X=tx.reshape((tx.shape[0], img_rows, img_cols, frames, channel))"
      ],
      "execution_count": null,
      "outputs": []
    },
    {
      "cell_type": "code",
      "metadata": {
        "id": "ChiOr9kDpQpP"
      },
      "source": [
        "train_X = train_X.astype('float32')\n",
        "test_X=test_X.astype('float32')"
      ],
      "execution_count": null,
      "outputs": []
    },
    {
      "cell_type": "code",
      "metadata": {
        "id": "z-j1JQ8nplsU"
      },
      "source": [
        "train_Y=np.array(y)\n",
        "test_Y=np.array(ty)"
      ],
      "execution_count": null,
      "outputs": []
    },
    {
      "cell_type": "code",
      "metadata": {
        "colab": {
          "base_uri": "https://localhost:8080/"
        },
        "id": "tNwB3q38ijN5",
        "outputId": "de36d04a-9277-4913-a358-891c35e8df75"
      },
      "source": [
        "train_X.shape"
      ],
      "execution_count": null,
      "outputs": [
        {
          "output_type": "execute_result",
          "data": {
            "text/plain": [
              "(1492, 112, 112, 5, 3)"
            ]
          },
          "metadata": {
            "tags": []
          },
          "execution_count": 15
        }
      ]
    },
    {
      "cell_type": "code",
      "metadata": {
        "colab": {
          "base_uri": "https://localhost:8080/"
        },
        "id": "OqPgA_l5ZpYr",
        "outputId": "ce78c23f-55cc-4ed5-b931-56a15bc78513"
      },
      "source": [
        "import keras\n",
        "print('X_shape:{}\\nY_shape:{}'.format(train_X.shape, train_Y.shape))\n",
        "\n",
        "# Define model\n",
        "model = Sequential()\n",
        "model.add(Conv3D(32, kernel_size=(3, 3, 3), input_shape=(train_X.shape[1:]), padding='same'))\n",
        "model.add(Activation('relu'))\n",
        "model.add(Conv3D(32, kernel_size=(3, 3, 3), padding='same'))\n",
        "model.add(Activation('relu'))\n",
        "model.add(MaxPooling3D(pool_size=(3, 3, 3), padding='same'))\n",
        "model.add(Dropout(0.25))\n",
        "\n",
        "model.add(Conv3D(64, kernel_size=(3, 3, 3), padding='same'))\n",
        "model.add(Activation('relu'))\n",
        "model.add(Conv3D(64, kernel_size=(3, 3, 3), padding='same'))\n",
        "model.add(Activation('relu'))\n",
        "model.add(MaxPooling3D(pool_size=(3, 3, 3), padding='same'))\n",
        "model.add(Dropout(0.25))\n",
        "\n",
        "model.add(Flatten())\n",
        "\n",
        "optimizer = keras.optimizers.Adam(0.001)\n",
        "model.summary()"
      ],
      "execution_count": null,
      "outputs": [
        {
          "output_type": "stream",
          "text": [
            "X_shape:(1492, 112, 112, 5, 3)\n",
            "Y_shape:(1492,)\n",
            "Model: \"sequential\"\n",
            "_________________________________________________________________\n",
            "Layer (type)                 Output Shape              Param #   \n",
            "=================================================================\n",
            "conv3d (Conv3D)              (None, 112, 112, 5, 32)   2624      \n",
            "_________________________________________________________________\n",
            "activation (Activation)      (None, 112, 112, 5, 32)   0         \n",
            "_________________________________________________________________\n",
            "conv3d_1 (Conv3D)            (None, 112, 112, 5, 32)   27680     \n",
            "_________________________________________________________________\n",
            "activation_1 (Activation)    (None, 112, 112, 5, 32)   0         \n",
            "_________________________________________________________________\n",
            "max_pooling3d (MaxPooling3D) (None, 38, 38, 2, 32)     0         \n",
            "_________________________________________________________________\n",
            "dropout (Dropout)            (None, 38, 38, 2, 32)     0         \n",
            "_________________________________________________________________\n",
            "conv3d_2 (Conv3D)            (None, 38, 38, 2, 64)     55360     \n",
            "_________________________________________________________________\n",
            "activation_2 (Activation)    (None, 38, 38, 2, 64)     0         \n",
            "_________________________________________________________________\n",
            "conv3d_3 (Conv3D)            (None, 38, 38, 2, 64)     110656    \n",
            "_________________________________________________________________\n",
            "activation_3 (Activation)    (None, 38, 38, 2, 64)     0         \n",
            "_________________________________________________________________\n",
            "max_pooling3d_1 (MaxPooling3 (None, 13, 13, 1, 64)     0         \n",
            "_________________________________________________________________\n",
            "dropout_1 (Dropout)          (None, 13, 13, 1, 64)     0         \n",
            "_________________________________________________________________\n",
            "flatten (Flatten)            (None, 10816)             0         \n",
            "=================================================================\n",
            "Total params: 196,320\n",
            "Trainable params: 196,320\n",
            "Non-trainable params: 0\n",
            "_________________________________________________________________\n"
          ],
          "name": "stdout"
        }
      ]
    },
    {
      "cell_type": "code",
      "metadata": {
        "colab": {
          "base_uri": "https://localhost:8080/"
        },
        "id": "eKZl-VX4rcHy",
        "outputId": "2dfed1b8-2b9f-4b55-b259-68b69f6562d5"
      },
      "source": [
        "train_X.shape"
      ],
      "execution_count": null,
      "outputs": [
        {
          "output_type": "execute_result",
          "data": {
            "text/plain": [
              "(1492, 112, 112, 5, 3)"
            ]
          },
          "metadata": {
            "tags": []
          },
          "execution_count": 17
        }
      ]
    },
    {
      "cell_type": "code",
      "metadata": {
        "colab": {
          "base_uri": "https://localhost:8080/"
        },
        "id": "zuygbCXPre2D",
        "outputId": "8969ba5d-c2b3-4709-dd28-575e0cad085b"
      },
      "source": [
        "train_Y.shape"
      ],
      "execution_count": null,
      "outputs": [
        {
          "output_type": "execute_result",
          "data": {
            "text/plain": [
              "(1492,)"
            ]
          },
          "metadata": {
            "tags": []
          },
          "execution_count": 18
        }
      ]
    },
    {
      "cell_type": "code",
      "metadata": {
        "colab": {
          "base_uri": "https://localhost:8080/"
        },
        "id": "PK_2zWA095TI",
        "outputId": "b42abf3a-a4e9-419b-a38e-8ba8bcb77fcc"
      },
      "source": [
        "test_X.shape"
      ],
      "execution_count": null,
      "outputs": [
        {
          "output_type": "execute_result",
          "data": {
            "text/plain": [
              "(611, 112, 112, 5, 3)"
            ]
          },
          "metadata": {
            "tags": []
          },
          "execution_count": 19
        }
      ]
    },
    {
      "cell_type": "code",
      "metadata": {
        "colab": {
          "base_uri": "https://localhost:8080/"
        },
        "id": "q9n1_3st98fX",
        "outputId": "e2133d63-0b88-4007-e05b-c0ffb6e33cda"
      },
      "source": [
        "test_Y.shape"
      ],
      "execution_count": null,
      "outputs": [
        {
          "output_type": "execute_result",
          "data": {
            "text/plain": [
              "(611,)"
            ]
          },
          "metadata": {
            "tags": []
          },
          "execution_count": 20
        }
      ]
    },
    {
      "cell_type": "code",
      "metadata": {
        "id": "V9IEefXDy_VW"
      },
      "source": [
        "ntrain_Y=[]\n",
        "ntest_Y=[]\n",
        "for i in train_Y:\n",
        "  if(i=='POSITIVE'):\n",
        "      ntrain_Y.append(0)\n",
        "  else:\n",
        "      ntrain_Y.append(1)\n",
        "\n",
        "for i in test_Y:\n",
        "  if(i=='POSITIVE'):\n",
        "      ntest_Y.append(0)\n",
        "  else:\n",
        "      ntest_Y.append(1)\n",
        "\n",
        "ntrain_Y = np_utils.to_categorical(ntrain_Y, nb_classes)\n",
        "ntest_Y = np_utils.to_categorical(ntest_Y, nb_classes)"
      ],
      "execution_count": null,
      "outputs": []
    },
    {
      "cell_type": "code",
      "metadata": {
        "id": "yIEcRdmZpDI9",
        "colab": {
          "base_uri": "https://localhost:8080/"
        },
        "outputId": "a73f5fb5-883e-4669-c5f7-c2c07cafd441"
      },
      "source": [
        "train_features=model.predict(train_X)\n",
        "print(train_features.shape)"
      ],
      "execution_count": null,
      "outputs": [
        {
          "output_type": "stream",
          "text": [
            "(1492, 10816)\n"
          ],
          "name": "stdout"
        }
      ]
    },
    {
      "cell_type": "code",
      "metadata": {
        "colab": {
          "base_uri": "https://localhost:8080/"
        },
        "id": "mPaA_3ph_Z8n",
        "outputId": "e75c65d8-a3a9-41ec-ceba-530c8aa151b2"
      },
      "source": [
        "test_features=model.predict(test_X)\n",
        "print(test_features.shape)"
      ],
      "execution_count": null,
      "outputs": [
        {
          "output_type": "stream",
          "text": [
            "(611, 10816)\n"
          ],
          "name": "stdout"
        }
      ]
    },
    {
      "cell_type": "markdown",
      "metadata": {
        "id": "GSbR9JXND-5e"
      },
      "source": [
        "VIDEO CLASSIFICATION"
      ]
    },
    {
      "cell_type": "code",
      "metadata": {
        "colab": {
          "base_uri": "https://localhost:8080/"
        },
        "id": "VNsxJy-F_ftK",
        "outputId": "fab6cdbf-f458-4a61-ecbb-4a73ac015774"
      },
      "source": [
        "from sklearn.svm import SVC  \n",
        "clf = SVC(kernel='linear') \n",
        "  \n",
        "clf.fit(train_features, train_Y) "
      ],
      "execution_count": null,
      "outputs": [
        {
          "output_type": "execute_result",
          "data": {
            "text/plain": [
              "SVC(C=1.0, break_ties=False, cache_size=200, class_weight=None, coef0=0.0,\n",
              "    decision_function_shape='ovr', degree=3, gamma='scale', kernel='linear',\n",
              "    max_iter=-1, probability=False, random_state=None, shrinking=True,\n",
              "    tol=0.001, verbose=False)"
            ]
          },
          "metadata": {
            "tags": []
          },
          "execution_count": 30
        }
      ]
    },
    {
      "cell_type": "code",
      "metadata": {
        "id": "OONutftG_fgD"
      },
      "source": [
        "pred=clf.predict(test_features)"
      ],
      "execution_count": null,
      "outputs": []
    },
    {
      "cell_type": "code",
      "metadata": {
        "colab": {
          "base_uri": "https://localhost:8080/"
        },
        "id": "lX-kg0PmAN-_",
        "outputId": "063fd41c-9b9a-4d97-e164-7cfc351186c3"
      },
      "source": [
        "from sklearn.metrics import classification_report\n",
        "print(classification_report(test_Y,pred))"
      ],
      "execution_count": null,
      "outputs": [
        {
          "output_type": "stream",
          "text": [
            "              precision    recall  f1-score   support\n",
            "\n",
            "    NEGATIVE       0.60      0.36      0.45       336\n",
            "    POSITIVE       0.48      0.71      0.57       275\n",
            "\n",
            "    accuracy                           0.52       611\n",
            "   macro avg       0.54      0.53      0.51       611\n",
            "weighted avg       0.55      0.52      0.50       611\n",
            "\n"
          ],
          "name": "stdout"
        }
      ]
    },
    {
      "cell_type": "markdown",
      "metadata": {
        "id": "YcVtWenSC096"
      },
      "source": [
        "A+V+T FUSION"
      ]
    },
    {
      "cell_type": "code",
      "metadata": {
        "colab": {
          "base_uri": "https://localhost:8080/"
        },
        "id": "GEOKZF9xC00Q",
        "outputId": "a58f00ce-e897-498a-d4f1-953e2bad2dd1"
      },
      "source": [
        "TRAIN_FUSED_features=np.hstack((text_f,audio_f,train_features))\n",
        "TRAIN_FUSED_features.shape"
      ],
      "execution_count": null,
      "outputs": [
        {
          "output_type": "execute_result",
          "data": {
            "text/plain": [
              "(1492, 13389)"
            ]
          },
          "metadata": {
            "tags": []
          },
          "execution_count": 33
        }
      ]
    },
    {
      "cell_type": "code",
      "metadata": {
        "id": "68XoPiNJC0rd"
      },
      "source": [
        "TEST_FUSED_features=np.hstack((text_test_f,audio_test_f,test_features))"
      ],
      "execution_count": null,
      "outputs": []
    },
    {
      "cell_type": "code",
      "metadata": {
        "colab": {
          "base_uri": "https://localhost:8080/"
        },
        "id": "wzYOJTIxC0gw",
        "outputId": "9c47f384-4110-47ad-c9af-f156a9265aa0"
      },
      "source": [
        "TEST_FUSED_features.shape"
      ],
      "execution_count": null,
      "outputs": [
        {
          "output_type": "execute_result",
          "data": {
            "text/plain": [
              "(611, 13389)"
            ]
          },
          "metadata": {
            "tags": []
          },
          "execution_count": 35
        }
      ]
    },
    {
      "cell_type": "code",
      "metadata": {
        "id": "U8eFUbzaDxKa"
      },
      "source": [
        "#normalization\n",
        "from sklearn.preprocessing import MinMaxScaler\n",
        "\n",
        "norm=MinMaxScaler().fit(TRAIN_FUSED_features)\n",
        "\n",
        "X_train_norm=norm.transform(TRAIN_FUSED_features)\n",
        "X_test_norm=norm.transform(TEST_FUSED_features)"
      ],
      "execution_count": null,
      "outputs": []
    },
    {
      "cell_type": "code",
      "metadata": {
        "id": "BnLgaxkiEX3A"
      },
      "source": [
        "y_train=np.array(y_train)\n",
        "y_train=y_train.reshape(1492)"
      ],
      "execution_count": null,
      "outputs": []
    },
    {
      "cell_type": "code",
      "metadata": {
        "id": "AmhVPPkED7r3"
      },
      "source": [
        "from sklearn import svm\n",
        "from sklearn.decomposition import PCA\n",
        "\n",
        "#.99 means that we want to include 99% of the variance\n",
        "pca=PCA(.99)\n",
        "X_train_pca=pca.fit_transform(X_train_norm)\n",
        "X_test_pca=pca.transform(X_test_norm)\n",
        "model=svm.SVC(kernel='linear').fit(X_train_pca,y_train)"
      ],
      "execution_count": null,
      "outputs": []
    },
    {
      "cell_type": "code",
      "metadata": {
        "id": "A9OCYaepD7ib"
      },
      "source": [
        "predict=model.predict(X_test_pca)"
      ],
      "execution_count": null,
      "outputs": []
    },
    {
      "cell_type": "code",
      "metadata": {
        "colab": {
          "base_uri": "https://localhost:8080/"
        },
        "id": "cW0t1cWKD7Zp",
        "outputId": "ca16719c-db0e-4e35-ad1e-5f4cdc43d9e0"
      },
      "source": [
        "y_test=np.array(y_test)\n",
        "y_test.shape"
      ],
      "execution_count": null,
      "outputs": [
        {
          "output_type": "execute_result",
          "data": {
            "text/plain": [
              "(611,)"
            ]
          },
          "metadata": {
            "tags": []
          },
          "execution_count": 43
        }
      ]
    },
    {
      "cell_type": "code",
      "metadata": {
        "colab": {
          "base_uri": "https://localhost:8080/"
        },
        "id": "4KxQShSAD7OV",
        "outputId": "7a21d7ba-a87b-4649-b03f-85eef3b0b780"
      },
      "source": [
        "from sklearn.metrics import classification_report\n",
        "print(classification_report(y_test,predict))"
      ],
      "execution_count": null,
      "outputs": [
        {
          "output_type": "stream",
          "text": [
            "              precision    recall  f1-score   support\n",
            "\n",
            "    NEGATIVE       0.61      0.55      0.58       336\n",
            "    POSITIVE       0.51      0.56      0.53       275\n",
            "\n",
            "    accuracy                           0.56       611\n",
            "   macro avg       0.56      0.56      0.56       611\n",
            "weighted avg       0.56      0.56      0.56       611\n",
            "\n"
          ],
          "name": "stdout"
        }
      ]
    },
    {
      "cell_type": "markdown",
      "metadata": {
        "id": "7ubHrGpoFXTA"
      },
      "source": [
        "V + T Fusion"
      ]
    },
    {
      "cell_type": "code",
      "metadata": {
        "colab": {
          "base_uri": "https://localhost:8080/"
        },
        "id": "ucEMspeaFXV_",
        "outputId": "03949344-6ac3-4a78-e84d-533e718430d9"
      },
      "source": [
        "TRAIN_vt_features=np.hstack((text_f,train_features))\n",
        "TRAIN_vt_features.shape"
      ],
      "execution_count": null,
      "outputs": [
        {
          "output_type": "execute_result",
          "data": {
            "text/plain": [
              "(1492, 13253)"
            ]
          },
          "metadata": {
            "tags": []
          },
          "execution_count": 45
        }
      ]
    },
    {
      "cell_type": "code",
      "metadata": {
        "colab": {
          "base_uri": "https://localhost:8080/"
        },
        "id": "k3LKw9L8FXYV",
        "outputId": "d812643a-d4ee-42fc-f83a-c9f357937d1f"
      },
      "source": [
        "TEST_vt_features=np.hstack((text_test_f,test_features))\n",
        "TEST_vt_features.shape"
      ],
      "execution_count": null,
      "outputs": [
        {
          "output_type": "execute_result",
          "data": {
            "text/plain": [
              "(611, 13253)"
            ]
          },
          "metadata": {
            "tags": []
          },
          "execution_count": 46
        }
      ]
    },
    {
      "cell_type": "code",
      "metadata": {
        "id": "RYmxXQ5FFXbF"
      },
      "source": [
        "#normalization\n",
        "from sklearn.preprocessing import MinMaxScaler\n",
        "\n",
        "norm=MinMaxScaler().fit(TRAIN_vt_features)\n",
        "\n",
        "X_train_norm=norm.transform(TRAIN_vt_features)\n",
        "X_test_norm=norm.transform(TEST_vt_features)"
      ],
      "execution_count": null,
      "outputs": []
    },
    {
      "cell_type": "code",
      "metadata": {
        "id": "jj8Y-eoAFXdA"
      },
      "source": [
        "from sklearn import svm\n",
        "from sklearn.decomposition import PCA\n",
        "\n",
        "#.99 means that we want to include 99% of the variance\n",
        "pca=PCA(.99)\n",
        "X_train_pca=pca.fit_transform(X_train_norm)\n",
        "X_test_pca=pca.transform(X_test_norm)\n",
        "\n",
        "model=svm.SVC(kernel='linear').fit(X_train_pca,y_train)"
      ],
      "execution_count": null,
      "outputs": []
    },
    {
      "cell_type": "code",
      "metadata": {
        "id": "FsZZc48fFXf6"
      },
      "source": [
        "predict=model.predict(X_test_pca)"
      ],
      "execution_count": null,
      "outputs": []
    },
    {
      "cell_type": "code",
      "metadata": {
        "colab": {
          "base_uri": "https://localhost:8080/"
        },
        "id": "HMgrcLOKGIwj",
        "outputId": "81888a76-44cc-4b8e-cd5e-ab9d98f28208"
      },
      "source": [
        "y_test=np.array(y_test)\n",
        "y_test.shape"
      ],
      "execution_count": null,
      "outputs": [
        {
          "output_type": "execute_result",
          "data": {
            "text/plain": [
              "(611,)"
            ]
          },
          "metadata": {
            "tags": []
          },
          "execution_count": 50
        }
      ]
    },
    {
      "cell_type": "code",
      "metadata": {
        "colab": {
          "base_uri": "https://localhost:8080/"
        },
        "id": "ULNCnzf1GI_C",
        "outputId": "625cce53-f7b1-4965-ca61-e766399e20a3"
      },
      "source": [
        "from sklearn.metrics import classification_report\n",
        "print(classification_report(y_test,predict))"
      ],
      "execution_count": null,
      "outputs": [
        {
          "output_type": "stream",
          "text": [
            "              precision    recall  f1-score   support\n",
            "\n",
            "    NEGATIVE       0.59      0.54      0.57       336\n",
            "    POSITIVE       0.49      0.54      0.52       275\n",
            "\n",
            "    accuracy                           0.54       611\n",
            "   macro avg       0.54      0.54      0.54       611\n",
            "weighted avg       0.55      0.54      0.54       611\n",
            "\n"
          ],
          "name": "stdout"
        }
      ]
    },
    {
      "cell_type": "markdown",
      "metadata": {
        "id": "wfCDx7x7TMLn"
      },
      "source": [
        "A + V fusion"
      ]
    },
    {
      "cell_type": "code",
      "metadata": {
        "colab": {
          "base_uri": "https://localhost:8080/"
        },
        "id": "BW5w3pL8HF8c",
        "outputId": "070f516f-1b99-485d-e14c-97c9abcde559"
      },
      "source": [
        "TRAIN_at_features=np.hstack((audio_f,train_features))\n",
        "TRAIN_at_features.shape"
      ],
      "execution_count": null,
      "outputs": [
        {
          "output_type": "execute_result",
          "data": {
            "text/plain": [
              "(1492, 10952)"
            ]
          },
          "metadata": {
            "tags": []
          },
          "execution_count": 52
        }
      ]
    },
    {
      "cell_type": "code",
      "metadata": {
        "colab": {
          "base_uri": "https://localhost:8080/"
        },
        "id": "WUboTpynHF_5",
        "outputId": "96c3752b-9838-43ad-c260-6e725436ae07"
      },
      "source": [
        "TEST_at_features=np.hstack((audio_test_f,test_features))\n",
        "TEST_at_features.shape"
      ],
      "execution_count": null,
      "outputs": [
        {
          "output_type": "execute_result",
          "data": {
            "text/plain": [
              "(611, 10952)"
            ]
          },
          "metadata": {
            "tags": []
          },
          "execution_count": 54
        }
      ]
    },
    {
      "cell_type": "code",
      "metadata": {
        "id": "GW6GTdiGHGDv"
      },
      "source": [
        "#normalization\n",
        "from sklearn.preprocessing import MinMaxScaler\n",
        "\n",
        "norm=MinMaxScaler().fit(TRAIN_at_features)\n",
        "\n",
        "X_train_norm=norm.transform(TRAIN_at_features)\n",
        "X_test_norm=norm.transform(TEST_at_features)"
      ],
      "execution_count": null,
      "outputs": []
    },
    {
      "cell_type": "code",
      "metadata": {
        "id": "zSJs-E5PHGGd"
      },
      "source": [
        "from sklearn import svm\n",
        "from sklearn.decomposition import PCA\n",
        "\n",
        "#.99 means that we want to include 99% of the variance\n",
        "pca=PCA(.99)\n",
        "X_train_pca=pca.fit_transform(X_train_norm)\n",
        "X_test_pca=pca.transform(X_test_norm)\n",
        "\n",
        "model=svm.SVC(kernel='linear').fit(X_train_pca,y_train)"
      ],
      "execution_count": null,
      "outputs": []
    },
    {
      "cell_type": "code",
      "metadata": {
        "id": "-3aByanjHGJH"
      },
      "source": [
        "predict=model.predict(X_test_pca)"
      ],
      "execution_count": null,
      "outputs": []
    },
    {
      "cell_type": "code",
      "metadata": {
        "colab": {
          "base_uri": "https://localhost:8080/"
        },
        "id": "Hqer9_bpHGLR",
        "outputId": "2c01767d-34f7-46b4-a1e8-c7a79946b39b"
      },
      "source": [
        "y_test=np.array(y_test)\n",
        "y_test.shape"
      ],
      "execution_count": null,
      "outputs": [
        {
          "output_type": "execute_result",
          "data": {
            "text/plain": [
              "(611,)"
            ]
          },
          "metadata": {
            "tags": []
          },
          "execution_count": 59
        }
      ]
    },
    {
      "cell_type": "code",
      "metadata": {
        "colab": {
          "base_uri": "https://localhost:8080/"
        },
        "id": "msiwM610HGNw",
        "outputId": "4654e4de-f83d-4974-ee09-d0dcecc250d2"
      },
      "source": [
        "from sklearn.metrics import classification_report\n",
        "print(classification_report(y_test,predict))"
      ],
      "execution_count": null,
      "outputs": [
        {
          "output_type": "stream",
          "text": [
            "              precision    recall  f1-score   support\n",
            "\n",
            "    NEGATIVE       0.57      0.46      0.51       336\n",
            "    POSITIVE       0.46      0.57      0.51       275\n",
            "\n",
            "    accuracy                           0.51       611\n",
            "   macro avg       0.52      0.52      0.51       611\n",
            "weighted avg       0.52      0.51      0.51       611\n",
            "\n"
          ],
          "name": "stdout"
        }
      ]
    },
    {
      "cell_type": "code",
      "metadata": {
        "id": "y_iHeyFRH8P0"
      },
      "source": [
        ""
      ],
      "execution_count": null,
      "outputs": []
    }
  ]
}